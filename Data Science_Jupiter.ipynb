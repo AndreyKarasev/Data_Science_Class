{
 "cells": [
  {
   "cell_type": "markdown",
   "metadata": {
    "cell_style": "center",
    "hide_input": false,
    "toc": "true"
   },
   "source": [
    "# Table of Contents\n",
    " <p><div class=\"lev1\"><a href=\"#Project-description\"><span class=\"toc-item-num\">1&nbsp;&nbsp;</span>Project description</a></div><div class=\"lev1\"><a href=\"#Premodeling\"><span class=\"toc-item-num\">2&nbsp;&nbsp;</span>Premodeling</a></div><div class=\"lev2\"><a href=\"#Data-load\"><span class=\"toc-item-num\">2.1&nbsp;&nbsp;</span>Data load</a></div><div class=\"lev2\"><a href=\"#Data-description\"><span class=\"toc-item-num\">2.2&nbsp;&nbsp;</span>Data description</a></div><div class=\"lev2\"><a href=\"#Data-visualization\"><span class=\"toc-item-num\">2.3&nbsp;&nbsp;</span>Data visualization</a></div><div class=\"lev3\"><a href=\"#Frequency-chats-and-histograms\"><span class=\"toc-item-num\">2.3.1&nbsp;&nbsp;</span>Frequency chats and histograms</a></div><div class=\"lev3\"><a href=\"#Box-plots\"><span class=\"toc-item-num\">2.3.2&nbsp;&nbsp;</span>Box plots</a></div><div class=\"lev2\"><a href=\"#Making-dummy-vars\"><span class=\"toc-item-num\">2.4&nbsp;&nbsp;</span>Making dummy vars</a></div><div class=\"lev1\"><a href=\"#Modeling\"><span class=\"toc-item-num\">3&nbsp;&nbsp;</span>Modeling</a></div><div class=\"lev2\"><a href=\"#Performing-the-regression\"><span class=\"toc-item-num\">3.1&nbsp;&nbsp;</span>Performing the regression</a></div><div class=\"lev3\"><a href=\"#Odds-ratio\"><span class=\"toc-item-num\">3.1.1&nbsp;&nbsp;</span>Odds ratio</a></div><div class=\"lev1\"><a href=\"#Post-modeling\"><span class=\"toc-item-num\">4&nbsp;&nbsp;</span>Post modeling</a></div><div class=\"lev2\"><a href=\"#Accuracy-evaluation-with-ROC-curve\"><span class=\"toc-item-num\">4.1&nbsp;&nbsp;</span>Accuracy evaluation with ROC curve</a></div><div class=\"lev2\"><a href=\"#Sensitivity-analysis\"><span class=\"toc-item-num\">4.2&nbsp;&nbsp;</span>Sensitivity analysis</a></div><div class=\"lev3\"><a href=\"#Data-preprocessing\"><span class=\"toc-item-num\">4.2.1&nbsp;&nbsp;</span>Data preprocessing</a></div><div class=\"lev3\"><a href=\"#Visualization\"><span class=\"toc-item-num\">4.2.2&nbsp;&nbsp;</span>Visualization</a></div><div class=\"lev2\"><a href=\"#Admission-chance-interactive-chart\"><span class=\"toc-item-num\">4.3&nbsp;&nbsp;</span>Admission chance interactive chart</a></div>"
   ]
  },
  {
   "cell_type": "markdown",
   "metadata": {
    "cell_style": "center",
    "hide_input": false
   },
   "source": [
    "# Project description\n",
    "\n",
    "- Code source:\n",
    "http://blog.yhat.com/posts/logistic-regression-and-python.html"
   ]
  },
  {
   "cell_type": "code",
   "execution_count": 1,
   "metadata": {
    "ExecuteTime": {
     "end_time": "2016-05-22T10:50:14.291551",
     "start_time": "2016-05-22T10:50:13.530582"
    },
    "collapsed": false,
    "hide_input": false,
    "init_cell": false
   },
   "outputs": [],
   "source": [
    "# almost all these packeges comes wiht anaconda\n",
    "%matplotlib inline\n",
    "import pandas as pd\n",
    "import statsmodels.api as sm\n",
    "import matplotlib.pyplot as plt\n",
    "import numpy as np\n",
    "import seaborn as sns # need to install it: in a command line type 'conda install seaborn' or 'pip install seaborn'\n",
    "from sklearn.metrics import roc_curve\n",
    "from ipywidgets import *"
   ]
  },
  {
   "cell_type": "markdown",
   "metadata": {
    "hide_input": true
   },
   "source": [
    "# Premodeling"
   ]
  },
  {
   "cell_type": "markdown",
   "metadata": {
    "hide_input": false
   },
   "source": [
    "## Data load"
   ]
  },
  {
   "cell_type": "code",
   "execution_count": 2,
   "metadata": {
    "ExecuteTime": {
     "end_time": "2016-05-22T10:50:14.564082",
     "start_time": "2016-05-22T10:50:14.292981"
    },
    "cell_style": "center",
    "collapsed": false,
    "hide_input": false,
    "scrolled": true
   },
   "outputs": [
    {
     "name": "stdout",
     "output_type": "stream",
     "text": [
      "Number of rows:  400\n",
      "Number of cols:  4\n"
     ]
    },
    {
     "data": {
      "text/html": [
       "<div>\n",
       "<table border=\"1\" class=\"dataframe\">\n",
       "  <thead>\n",
       "    <tr style=\"text-align: right;\">\n",
       "      <th></th>\n",
       "      <th>admit</th>\n",
       "      <th>gre</th>\n",
       "      <th>gpa</th>\n",
       "      <th>prestige</th>\n",
       "    </tr>\n",
       "  </thead>\n",
       "  <tbody>\n",
       "    <tr>\n",
       "      <th>0</th>\n",
       "      <td>0</td>\n",
       "      <td>380</td>\n",
       "      <td>3.61</td>\n",
       "      <td>3</td>\n",
       "    </tr>\n",
       "    <tr>\n",
       "      <th>1</th>\n",
       "      <td>1</td>\n",
       "      <td>660</td>\n",
       "      <td>3.67</td>\n",
       "      <td>3</td>\n",
       "    </tr>\n",
       "    <tr>\n",
       "      <th>2</th>\n",
       "      <td>1</td>\n",
       "      <td>800</td>\n",
       "      <td>4.00</td>\n",
       "      <td>1</td>\n",
       "    </tr>\n",
       "    <tr>\n",
       "      <th>3</th>\n",
       "      <td>1</td>\n",
       "      <td>640</td>\n",
       "      <td>3.19</td>\n",
       "      <td>4</td>\n",
       "    </tr>\n",
       "    <tr>\n",
       "      <th>4</th>\n",
       "      <td>0</td>\n",
       "      <td>520</td>\n",
       "      <td>2.93</td>\n",
       "      <td>4</td>\n",
       "    </tr>\n",
       "  </tbody>\n",
       "</table>\n",
       "</div>"
      ],
      "text/plain": [
       "   admit  gre   gpa  prestige\n",
       "0      0  380  3.61         3\n",
       "1      1  660  3.67         3\n",
       "2      1  800  4.00         1\n",
       "3      1  640  3.19         4\n",
       "4      0  520  2.93         4"
      ]
     },
     "execution_count": 2,
     "metadata": {},
     "output_type": "execute_result"
    }
   ],
   "source": [
    "# read the data in\n",
    "df = pd.read_csv(\"http://www.ats.ucla.edu/stat/data/binary.csv\")\n",
    "df.columns = [\"admit\", \"gre\", \"gpa\", \"prestige\"]\n",
    "print ('Number of rows: ', df.shape[0])\n",
    "print ('Number of cols: ', df.shape[1])\n",
    "df.head()"
   ]
  },
  {
   "cell_type": "markdown",
   "metadata": {},
   "source": [
    "## Data description"
   ]
  },
  {
   "cell_type": "code",
   "execution_count": 3,
   "metadata": {
    "ExecuteTime": {
     "end_time": "2016-05-22T10:50:14.588062",
     "start_time": "2016-05-22T10:50:14.565420"
    },
    "collapsed": false
   },
   "outputs": [
    {
     "data": {
      "text/html": [
       "<div>\n",
       "<table border=\"1\" class=\"dataframe\">\n",
       "  <thead>\n",
       "    <tr style=\"text-align: right;\">\n",
       "      <th></th>\n",
       "      <th>count</th>\n",
       "      <th>mean</th>\n",
       "      <th>std</th>\n",
       "      <th>min</th>\n",
       "      <th>25%</th>\n",
       "      <th>50%</th>\n",
       "      <th>75%</th>\n",
       "      <th>max</th>\n",
       "    </tr>\n",
       "  </thead>\n",
       "  <tbody>\n",
       "    <tr>\n",
       "      <th>admit</th>\n",
       "      <td>400.0</td>\n",
       "      <td>0.3175</td>\n",
       "      <td>0.466087</td>\n",
       "      <td>0.00</td>\n",
       "      <td>0.00</td>\n",
       "      <td>0.000</td>\n",
       "      <td>1.00</td>\n",
       "      <td>1.0</td>\n",
       "    </tr>\n",
       "    <tr>\n",
       "      <th>gre</th>\n",
       "      <td>400.0</td>\n",
       "      <td>587.7000</td>\n",
       "      <td>115.516536</td>\n",
       "      <td>220.00</td>\n",
       "      <td>520.00</td>\n",
       "      <td>580.000</td>\n",
       "      <td>660.00</td>\n",
       "      <td>800.0</td>\n",
       "    </tr>\n",
       "    <tr>\n",
       "      <th>gpa</th>\n",
       "      <td>400.0</td>\n",
       "      <td>3.3899</td>\n",
       "      <td>0.380567</td>\n",
       "      <td>2.26</td>\n",
       "      <td>3.13</td>\n",
       "      <td>3.395</td>\n",
       "      <td>3.67</td>\n",
       "      <td>4.0</td>\n",
       "    </tr>\n",
       "    <tr>\n",
       "      <th>prestige</th>\n",
       "      <td>400.0</td>\n",
       "      <td>2.4850</td>\n",
       "      <td>0.944460</td>\n",
       "      <td>1.00</td>\n",
       "      <td>2.00</td>\n",
       "      <td>2.000</td>\n",
       "      <td>3.00</td>\n",
       "      <td>4.0</td>\n",
       "    </tr>\n",
       "  </tbody>\n",
       "</table>\n",
       "</div>"
      ],
      "text/plain": [
       "          count      mean         std     min     25%      50%     75%    max\n",
       "admit     400.0    0.3175    0.466087    0.00    0.00    0.000    1.00    1.0\n",
       "gre       400.0  587.7000  115.516536  220.00  520.00  580.000  660.00  800.0\n",
       "gpa       400.0    3.3899    0.380567    2.26    3.13    3.395    3.67    4.0\n",
       "prestige  400.0    2.4850    0.944460    1.00    2.00    2.000    3.00    4.0"
      ]
     },
     "execution_count": 3,
     "metadata": {},
     "output_type": "execute_result"
    }
   ],
   "source": [
    "df.describe().T # I think it looks a bit better when transposed"
   ]
  },
  {
   "cell_type": "markdown",
   "metadata": {},
   "source": [
    "Number of admitted students vs. not admitted by institution prestige"
   ]
  },
  {
   "cell_type": "code",
   "execution_count": 4,
   "metadata": {
    "ExecuteTime": {
     "end_time": "2016-05-22T10:50:14.604357",
     "start_time": "2016-05-22T10:50:14.589176"
    },
    "collapsed": false
   },
   "outputs": [
    {
     "data": {
      "text/html": [
       "<div>\n",
       "<table border=\"1\" class=\"dataframe\">\n",
       "  <thead>\n",
       "    <tr style=\"text-align: right;\">\n",
       "      <th>prestige</th>\n",
       "      <th>1</th>\n",
       "      <th>2</th>\n",
       "      <th>3</th>\n",
       "      <th>4</th>\n",
       "    </tr>\n",
       "    <tr>\n",
       "      <th>admit</th>\n",
       "      <th></th>\n",
       "      <th></th>\n",
       "      <th></th>\n",
       "      <th></th>\n",
       "    </tr>\n",
       "  </thead>\n",
       "  <tbody>\n",
       "    <tr>\n",
       "      <th>0</th>\n",
       "      <td>28</td>\n",
       "      <td>97</td>\n",
       "      <td>93</td>\n",
       "      <td>55</td>\n",
       "    </tr>\n",
       "    <tr>\n",
       "      <th>1</th>\n",
       "      <td>33</td>\n",
       "      <td>54</td>\n",
       "      <td>28</td>\n",
       "      <td>12</td>\n",
       "    </tr>\n",
       "  </tbody>\n",
       "</table>\n",
       "</div>"
      ],
      "text/plain": [
       "prestige   1   2   3   4\n",
       "admit                   \n",
       "0         28  97  93  55\n",
       "1         33  54  28  12"
      ]
     },
     "execution_count": 4,
     "metadata": {},
     "output_type": "execute_result"
    }
   ],
   "source": [
    " pd.crosstab(df['admit'], df['prestige'], rownames=['admit'])"
   ]
  },
  {
   "cell_type": "markdown",
   "metadata": {},
   "source": [
    "##  Data visualization"
   ]
  },
  {
   "cell_type": "markdown",
   "metadata": {},
   "source": [
    "### Frequency chats and histograms"
   ]
  },
  {
   "cell_type": "code",
   "execution_count": 5,
   "metadata": {
    "ExecuteTime": {
     "end_time": "2016-05-22T10:50:15.267893",
     "start_time": "2016-05-22T10:50:14.605426"
    },
    "collapsed": false,
    "scrolled": false
   },
   "outputs": [
    {
     "data": {
      "text/plain": [
       "<matplotlib.axes._subplots.AxesSubplot at 0x7efe0e583ac8>"
      ]
     },
     "execution_count": 5,
     "metadata": {},
     "output_type": "execute_result"
    },
    {
     "data": {
      "image/png": "[encoded data removed]",
      "text/plain": [
       "<matplotlib.figure.Figure at 0x7efe0e60ff60>"
      ]
     },
     "metadata": {},
     "output_type": "display_data"
    }
   ],
   "source": [
    "sns.set(style=\"white\")\n",
    "f, axes = plt.subplots(2, 2, figsize=(9, 9), sharex=False)\n",
    "sns.countplot(x=\"admit\", data=df,palette=\"RdBu_d\",ax=axes[0, 0])\n",
    "sns.countplot(x=\"prestige\", data=df,palette=\"RdBu_d\",ax=axes[0, 1])\n",
    "sns.distplot(df[['gre']],color='b',kde=False, bins=25,ax=axes[1, 0],axlabel='gre')\n",
    "sns.distplot(df[['gpa']],color='b',kde=False, bins=10,ax=axes[1, 1],axlabel='gpa')"
   ]
  },
  {
   "cell_type": "markdown",
   "metadata": {},
   "source": [
    "### Box plots"
   ]
  },
  {
   "cell_type": "code",
   "execution_count": 6,
   "metadata": {
    "ExecuteTime": {
     "end_time": "2016-05-22T10:50:16.184228",
     "start_time": "2016-05-22T10:50:15.268999"
    },
    "collapsed": false
   },
   "outputs": [
    {
     "data": {
      "text/plain": [
       "<matplotlib.axes._subplots.AxesSubplot at 0x7efe0a9c5630>"
      ]
     },
     "execution_count": 6,
     "metadata": {},
     "output_type": "execute_result"
    },
    {
     "data": {
      "image/png": "[encoded data removed]",
      "text/plain": [
       "<matplotlib.figure.Figure at 0x7efe0a9e8630>"
      ]
     },
     "metadata": {},
     "output_type": "display_data"
    }
   ],
   "source": [
    "sns.set(style=\"whitegrid\")\n",
    "f, axes = plt.subplots(1, 2, figsize=(18, 5), sharex=False)\n",
    "sns.boxplot(x=\"prestige\", y=\"gre\", hue=\"admit\",data=df,palette=\"husl\",ax=axes[0])\n",
    "sns.boxplot(x=\"prestige\", y=\"gpa\", hue=\"admit\",data=df,palette=\"husl\",ax=axes[1])"
   ]
  },
  {
   "cell_type": "markdown",
   "metadata": {
    "ExecuteTime": {
     "end_time": "2016-05-13T13:36:02.659756",
     "start_time": "2016-05-13T13:36:01.905885"
    }
   },
   "source": [
    "## Making dummy vars\n",
    "In source code, the author uses quite cumbersome way. It can be done much easier"
   ]
  },
  {
   "cell_type": "code",
   "execution_count": 7,
   "metadata": {
    "ExecuteTime": {
     "end_time": "2016-05-22T10:50:16.205856",
     "start_time": "2016-05-22T10:50:16.185407"
    },
    "collapsed": false
   },
   "outputs": [
    {
     "data": {
      "text/html": [
       "<div>\n",
       "<table border=\"1\" class=\"dataframe\">\n",
       "  <thead>\n",
       "    <tr style=\"text-align: right;\">\n",
       "      <th></th>\n",
       "      <th>admit</th>\n",
       "      <th>gre</th>\n",
       "      <th>gpa</th>\n",
       "      <th>prestige_2</th>\n",
       "      <th>prestige_3</th>\n",
       "      <th>prestige_4</th>\n",
       "      <th>intercept</th>\n",
       "    </tr>\n",
       "  </thead>\n",
       "  <tbody>\n",
       "    <tr>\n",
       "      <th>0</th>\n",
       "      <td>0</td>\n",
       "      <td>380</td>\n",
       "      <td>3.61</td>\n",
       "      <td>0.0</td>\n",
       "      <td>1.0</td>\n",
       "      <td>0.0</td>\n",
       "      <td>1.0</td>\n",
       "    </tr>\n",
       "    <tr>\n",
       "      <th>1</th>\n",
       "      <td>1</td>\n",
       "      <td>660</td>\n",
       "      <td>3.67</td>\n",
       "      <td>0.0</td>\n",
       "      <td>1.0</td>\n",
       "      <td>0.0</td>\n",
       "      <td>1.0</td>\n",
       "    </tr>\n",
       "    <tr>\n",
       "      <th>2</th>\n",
       "      <td>1</td>\n",
       "      <td>800</td>\n",
       "      <td>4.00</td>\n",
       "      <td>0.0</td>\n",
       "      <td>0.0</td>\n",
       "      <td>0.0</td>\n",
       "      <td>1.0</td>\n",
       "    </tr>\n",
       "    <tr>\n",
       "      <th>3</th>\n",
       "      <td>1</td>\n",
       "      <td>640</td>\n",
       "      <td>3.19</td>\n",
       "      <td>0.0</td>\n",
       "      <td>0.0</td>\n",
       "      <td>1.0</td>\n",
       "      <td>1.0</td>\n",
       "    </tr>\n",
       "    <tr>\n",
       "      <th>4</th>\n",
       "      <td>0</td>\n",
       "      <td>520</td>\n",
       "      <td>2.93</td>\n",
       "      <td>0.0</td>\n",
       "      <td>0.0</td>\n",
       "      <td>1.0</td>\n",
       "      <td>1.0</td>\n",
       "    </tr>\n",
       "  </tbody>\n",
       "</table>\n",
       "</div>"
      ],
      "text/plain": [
       "   admit  gre   gpa  prestige_2  prestige_3  prestige_4  intercept\n",
       "0      0  380  3.61         0.0         1.0         0.0        1.0\n",
       "1      1  660  3.67         0.0         1.0         0.0        1.0\n",
       "2      1  800  4.00         0.0         0.0         0.0        1.0\n",
       "3      1  640  3.19         0.0         0.0         1.0        1.0\n",
       "4      0  520  2.93         0.0         0.0         1.0        1.0"
      ]
     },
     "execution_count": 7,
     "metadata": {},
     "output_type": "execute_result"
    }
   ],
   "source": [
    "df.prestige=df.prestige.astype(str)# set this var as strig\n",
    "\n",
    "#this func creat dummies from all cater vars and it uses var name as prefix \n",
    "data=pd.get_dummies(df).drop('prestige_1', axis=1) \n",
    "data['intercept'] = 1.0\n",
    "data.head()"
   ]
  },
  {
   "cell_type": "markdown",
   "metadata": {
    "ExecuteTime": {
     "end_time": "2016-05-13T13:53:47.819544",
     "start_time": "2016-05-13T13:53:47.803625"
    }
   },
   "source": [
    "# Modeling "
   ]
  },
  {
   "cell_type": "markdown",
   "metadata": {},
   "source": [
    "## Performing the regression"
   ]
  },
  {
   "cell_type": "code",
   "execution_count": 8,
   "metadata": {
    "ExecuteTime": {
     "end_time": "2016-05-22T10:50:16.239294",
     "start_time": "2016-05-22T10:50:16.207142"
    },
    "collapsed": false
   },
   "outputs": [
    {
     "name": "stdout",
     "output_type": "stream",
     "text": [
      "train_cols:  ['gre', 'gpa', 'prestige_2', 'prestige_3', 'prestige_4', 'intercept']\n",
      " \n",
      "Optimization terminated successfully.\n",
      "         Current function value: 0.573147\n",
      "         Iterations 6\n",
      " \n",
      "                           Logit Regression Results                           \n",
      "==============================================================================\n",
      "Dep. Variable:                  admit   No. Observations:                  400\n",
      "Model:                          Logit   Df Residuals:                      394\n",
      "Method:                           MLE   Df Model:                            5\n",
      "Date:                Sun, 22 May 2016   Pseudo R-squ.:                 0.08292\n",
      "Time:                        10:50:16   Log-Likelihood:                -229.26\n",
      "converged:                       True   LL-Null:                       -249.99\n",
      "                                        LLR p-value:                 7.578e-08\n",
      "==============================================================================\n",
      "                 coef    std err          z      P>|z|      [95.0% Conf. Int.]\n",
      "------------------------------------------------------------------------------\n",
      "gre            0.0023      0.001      2.070      0.038         0.000     0.004\n",
      "gpa            0.8040      0.332      2.423      0.015         0.154     1.454\n",
      "prestige_2    -0.6754      0.316     -2.134      0.033        -1.296    -0.055\n",
      "prestige_3    -1.3402      0.345     -3.881      0.000        -2.017    -0.663\n",
      "prestige_4    -1.5515      0.418     -3.713      0.000        -2.370    -0.733\n",
      "intercept     -3.9900      1.140     -3.500      0.000        -6.224    -1.756\n",
      "==============================================================================\n",
      " \n",
      "Confidence interval of each coeffecient\n",
      "                   0         1\n",
      "gre         0.000120  0.004409\n",
      "gpa         0.153684  1.454391\n",
      "prestige_2 -1.295751 -0.055135\n",
      "prestige_3 -2.016992 -0.663416\n",
      "prestige_4 -2.370399 -0.732529\n",
      "intercept  -6.224242 -1.755716\n"
     ]
    }
   ],
   "source": [
    "train_cols=data.columns[1:]\n",
    "# it was a bit confusin because they added 'intercept' column, but don't use it later\n",
    "print ('train_cols: ', train_cols.tolist())\n",
    "print (' ')\n",
    "logit = sm.Logit(data['admit'], data[train_cols])\n",
    "\n",
    "# fit the model\n",
    "result = logit.fit()\n",
    "print (' ')\n",
    "print (result.summary())\n",
    "print (' ')\n",
    "print ('Confidence interval of each coeffecient')\n",
    "print (result.conf_int())"
   ]
  },
  {
   "cell_type": "markdown",
   "metadata": {},
   "source": [
    "### Odds ratio"
   ]
  },
  {
   "cell_type": "code",
   "execution_count": 9,
   "metadata": {
    "ExecuteTime": {
     "end_time": "2016-05-22T10:50:16.256775",
     "start_time": "2016-05-22T10:50:16.240770"
    },
    "collapsed": false,
    "scrolled": true
   },
   "outputs": [
    {
     "name": "stdout",
     "output_type": "stream",
     "text": [
      "                2.5%     97.5%  Odd Ratio\n",
      "gre         1.000120  1.004418   1.002267\n",
      "gpa         1.166122  4.281877   2.234545\n",
      "prestige_2  0.273692  0.946358   0.508931\n",
      "prestige_3  0.133055  0.515089   0.261792\n",
      "prestige_4  0.093443  0.480692   0.211938\n",
      "intercept   0.001981  0.172783   0.018500\n"
     ]
    }
   ],
   "source": [
    "params = result.params\n",
    "conf = result.conf_int()\n",
    "conf['Odd Ratio'] = params\n",
    "conf.columns = ['2.5%', '97.5%', 'Odd Ratio']\n",
    "print (np.exp(conf))"
   ]
  },
  {
   "cell_type": "markdown",
   "metadata": {},
   "source": [
    "# Post modeling"
   ]
  },
  {
   "cell_type": "markdown",
   "metadata": {},
   "source": [
    "## Accuracy evaluation with ROC curve"
   ]
  },
  {
   "cell_type": "code",
   "execution_count": 10,
   "metadata": {
    "ExecuteTime": {
     "end_time": "2016-05-22T10:50:16.460852",
     "start_time": "2016-05-22T10:50:16.258079"
    },
    "collapsed": false,
    "scrolled": false
   },
   "outputs": [
    {
     "data": {
      "image/png": "[encoded data removed]",
      "text/plain": [
       "<matplotlib.figure.Figure at 0x7efe0a97f9e8>"
      ]
     },
     "metadata": {},
     "output_type": "display_data"
    }
   ],
   "source": [
    "falsePositiveRate,truePositiveRate,tresh=roc_curve( data['admit'],\n",
    "                                                   result.predict(data[train_cols]))\n",
    "sns.set(style=\"whitegrid\")\n",
    "plt.figure(figsize=(10, 5))\n",
    "plt.plot(falsePositiveRate, truePositiveRate, label='ROC curve' )\n",
    "plt.plot([0, 1], [0, 1], 'k--')\n",
    "plt.xlabel('False Positive Rate')\n",
    "plt.ylabel('True Positive Rate')\n",
    "plt.legend(loc=\"lower right\")\n",
    "plt.show()"
   ]
  },
  {
   "cell_type": "markdown",
   "metadata": {},
   "source": [
    "## Sensitivity analysis"
   ]
  },
  {
   "cell_type": "markdown",
   "metadata": {},
   "source": [
    "### Data preprocessing"
   ]
  },
  {
   "cell_type": "code",
   "execution_count": 11,
   "metadata": {
    "ExecuteTime": {
     "end_time": "2016-05-22T10:50:16.488458",
     "start_time": "2016-05-22T10:50:16.462078"
    },
    "collapsed": false
   },
   "outputs": [
    {
     "data": {
      "text/html": [
       "<div>\n",
       "<table border=\"1\" class=\"dataframe\">\n",
       "  <thead>\n",
       "    <tr style=\"text-align: right;\">\n",
       "      <th></th>\n",
       "      <th>gre</th>\n",
       "      <th>gpa</th>\n",
       "      <th>intercept</th>\n",
       "      <th>school prestige</th>\n",
       "      <th>prestige_2</th>\n",
       "      <th>prestige_3</th>\n",
       "      <th>prestige_4</th>\n",
       "      <th>admit_pred</th>\n",
       "    </tr>\n",
       "  </thead>\n",
       "  <tbody>\n",
       "    <tr>\n",
       "      <th>0</th>\n",
       "      <td>220.0</td>\n",
       "      <td>2.260000</td>\n",
       "      <td>1</td>\n",
       "      <td>1</td>\n",
       "      <td>0.0</td>\n",
       "      <td>0.0</td>\n",
       "      <td>0.0</td>\n",
       "      <td>0.157801</td>\n",
       "    </tr>\n",
       "    <tr>\n",
       "      <th>1</th>\n",
       "      <td>220.0</td>\n",
       "      <td>2.260000</td>\n",
       "      <td>1</td>\n",
       "      <td>2</td>\n",
       "      <td>1.0</td>\n",
       "      <td>0.0</td>\n",
       "      <td>0.0</td>\n",
       "      <td>0.087056</td>\n",
       "    </tr>\n",
       "    <tr>\n",
       "      <th>2</th>\n",
       "      <td>220.0</td>\n",
       "      <td>2.260000</td>\n",
       "      <td>1</td>\n",
       "      <td>3</td>\n",
       "      <td>0.0</td>\n",
       "      <td>1.0</td>\n",
       "      <td>0.0</td>\n",
       "      <td>0.046758</td>\n",
       "    </tr>\n",
       "    <tr>\n",
       "      <th>3</th>\n",
       "      <td>220.0</td>\n",
       "      <td>2.260000</td>\n",
       "      <td>1</td>\n",
       "      <td>4</td>\n",
       "      <td>0.0</td>\n",
       "      <td>0.0</td>\n",
       "      <td>1.0</td>\n",
       "      <td>0.038194</td>\n",
       "    </tr>\n",
       "    <tr>\n",
       "      <th>4</th>\n",
       "      <td>220.0</td>\n",
       "      <td>2.453333</td>\n",
       "      <td>1</td>\n",
       "      <td>1</td>\n",
       "      <td>0.0</td>\n",
       "      <td>0.0</td>\n",
       "      <td>0.0</td>\n",
       "      <td>0.179574</td>\n",
       "    </tr>\n",
       "  </tbody>\n",
       "</table>\n",
       "</div>"
      ],
      "text/plain": [
       "     gre       gpa  intercept  school prestige  prestige_2  prestige_3  \\\n",
       "0  220.0  2.260000          1                1         0.0         0.0   \n",
       "1  220.0  2.260000          1                2         1.0         0.0   \n",
       "2  220.0  2.260000          1                3         0.0         1.0   \n",
       "3  220.0  2.260000          1                4         0.0         0.0   \n",
       "4  220.0  2.453333          1                1         0.0         0.0   \n",
       "\n",
       "   prestige_4  admit_pred  \n",
       "0         0.0    0.157801  \n",
       "1         0.0    0.087056  \n",
       "2         0.0    0.046758  \n",
       "3         1.0    0.038194  \n",
       "4         0.0    0.179574  "
      ]
     },
     "execution_count": 11,
     "metadata": {},
     "output_type": "execute_result"
    }
   ],
   "source": [
    "# instead of generating all possible values of GRE and GPA, we're going\n",
    "# to use an evenly spaced range of 10 values from the min to the max \n",
    "gres = np.linspace(data['gre'].min(), data['gre'].max(), 10)\n",
    "gpas = np.linspace(data['gpa'].min(), data['gpa'].max(), 10)\n",
    "# enumerate all possibilities\n",
    "'''on a source code, author used cartasion, which is excessive and \n",
    "confusing, also it gives warnings. I am using simple list comprehension to make combinations '''\n",
    "\n",
    "combos = pd.DataFrame([(gr,gp, prest,1) for gr in gres for gp in gpas for prest in [1,2,3,4]])\n",
    "combos.columns = ['gre', 'gpa', 'prestige', 'intercept']\n",
    "combos['school prestige']=combos.prestige\n",
    "combos.prestige=combos.prestige.astype(int).astype(str)\n",
    "combos=pd.get_dummies(combos).drop('prestige_1', axis=1)\n",
    "combos['admit_pred'] = result.predict(combos[train_cols])\n",
    "combos.head()"
   ]
  },
  {
   "cell_type": "markdown",
   "metadata": {},
   "source": [
    "### Visualization"
   ]
  },
  {
   "cell_type": "code",
   "execution_count": 12,
   "metadata": {
    "ExecuteTime": {
     "end_time": "2016-05-22T10:50:16.956980",
     "start_time": "2016-05-22T10:50:16.489989"
    },
    "collapsed": false,
    "scrolled": false
   },
   "outputs": [
    {
     "data": {
      "image/png": "[encoded data removed]",
      "text/plain": [
       "<matplotlib.figure.Figure at 0x7efe0a9034e0>"
      ]
     },
     "metadata": {},
     "output_type": "display_data"
    }
   ],
   "source": [
    "f, axes = plt.subplots(1, 2, figsize=(18, 5), sharex=False)\n",
    "def isolate_and_plot(variable):\n",
    "    if variable=='gre':\n",
    "        loc=0\n",
    "    else:\n",
    "        loc=1\n",
    "\n",
    "    # isolate gre and class rank\n",
    "    grouped = pd.pivot_table(combos, values=['admit_pred'], index=[variable, 'school prestige'],\n",
    "                           aggfunc=np.mean)\n",
    "  \n",
    "    # make a plot\n",
    "    colors = 'rbgyrbgy'\n",
    "    for col in combos['school prestige'].unique():\n",
    "        plt_data = grouped.ix[grouped.index.get_level_values(1)==col]\n",
    "        axes[loc].plot(plt_data.index.get_level_values(0), plt_data['admit_pred'],\n",
    "                color=colors[int(col)])\n",
    "    axes[loc].set_ylim([0.0, 1.05]) \n",
    "    axes[loc].set_xlabel(variable,size=20)\n",
    "    axes[loc].set_ylabel(\"P(admit=1)\",size=20)\n",
    "    axes[loc].set_title(\"Prob(admit=1) isolating \" + variable + \" and school prestige\",size=20)\n",
    "    axes[loc].legend(['1', '2', '3', '4'], loc='upper left', title='school prestige')\n",
    "\n",
    "isolate_and_plot('gre')\n",
    "isolate_and_plot('gpa')"
   ]
  },
  {
   "cell_type": "markdown",
   "metadata": {},
   "source": [
    "## Admission chance interactive chart"
   ]
  },
  {
   "cell_type": "code",
   "execution_count": 13,
   "metadata": {
    "ExecuteTime": {
     "end_time": "2016-05-22T10:50:17.184865",
     "start_time": "2016-05-22T10:50:16.958522"
    },
    "collapsed": false
   },
   "outputs": [
    {
     "data": {
      "image/png": "[encoded data removed]",
      "text/plain": [
       "<matplotlib.figure.Figure at 0x7efe0a517908>"
      ]
     },
     "metadata": {},
     "output_type": "display_data"
    }
   ],
   "source": [
    "def chances(GRE,GPA):\n",
    "    combos=pd.DataFrame([(GRE,GPA, prest,1) for prest in [1,2,3,4]])    \n",
    "    combos.columns = ['gre', 'gpa', 'prestige', 'intercept']\n",
    "    combos['school prestige']=combos.prestige\n",
    "    combos.prestige=combos.prestige.astype(int).astype(str)\n",
    "    combos=pd.get_dummies(combos).drop('prestige_1', axis=1)\n",
    "    combos['admit_pred'] = result.predict(combos[train_cols])\n",
    "    plt.figure(figsize=(10, 5), )\n",
    "    plt.ylim([0.0, 1.05])    \n",
    "    sns.barplot(x=\"school prestige\", y=\"admit_pred\",data=combos,ci='None',palette=\"RdBu_d\")\n",
    "    plt.ylabel(\"Admission chance\", size=20)\n",
    "    plt.xlabel(\"School Prestige\", size=20)\n",
    "interact(chances,GRE=[200,800],GPA=[1.1,4.0])"
   ]
  },
  {
   "cell_type": "code",
   "execution_count": null,
   "metadata": {
    "collapsed": true
   },
   "outputs": [],
   "source": []
  }
 ],
 "metadata": {
  "hide_input": false,
  "kernelspec": {
   "display_name": "Python 3",
   "language": "python",
   "name": "python3"
  },
  "language_info": {
   "codemirror_mode": {
    "name": "ipython",
    "version": 3
   },
   "file_extension": ".py",
   "mimetype": "text/x-python",
   "name": "python",
   "nbconvert_exporter": "python",
   "pygments_lexer": "ipython3",
   "version": "3.5.1"
  },
  "latex_envs": {
   "bibliofile": "biblio.bib",
   "cite_by": "key",
   "current_citInitial": 1,
   "eqLabelWithNumbers": true,
   "eqNumInitial": 0
  },
  "toc": {
   "toc_cell": true,
   "toc_number_sections": true,
   "toc_section_display": "block",
   "toc_threshold": 6,
   "toc_window_display": false
  },
  "toc_position": {
   "height": "331px",
   "left": "1627.73px",
   "right": "20px",
   "top": "120px",
   "width": "210px"
  },
  "widgets": {
   "state": {},
   "version": "1.1.2"
  }
 },
 "nbformat": 4,
 "nbformat_minor": 0
}
